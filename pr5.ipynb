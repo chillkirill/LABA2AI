{
 "cells": [
  {
   "cell_type": "code",
   "execution_count": 1,
   "id": "6d5e545e-5552-4262-9866-0b30135315ef",
   "metadata": {},
   "outputs": [
    {
     "name": "stdout",
     "output_type": "stream",
     "text": [
      "Единичная матрица:\n",
      " [[1. 0. 0. 0.]\n",
      " [0. 1. 0. 0.]\n",
      " [0. 0. 1. 0.]\n",
      " [0. 0. 0. 1.]]\n",
      "\n",
      "Диагональная матрица:\n",
      " [[ 5  0  0  0]\n",
      " [ 0 10  0  0]\n",
      " [ 0  0 15  0]\n",
      " [ 0  0  0 20]]\n",
      "\n",
      "Сумма элементов единичной матрицы: 4.0\n",
      "Сумма элементов диагональной матрицы: 50\n",
      "\n",
      "Сумма элементов единичной матрицы меньше суммы элементов диагональной матрицы.\n"
     ]
    }
   ],
   "source": [
    "import numpy as np\n",
    "\n",
    "# единич матрица  4x4\n",
    "identity_matrix = np.identity(4)\n",
    "\n",
    "print(\"Единичная матрица:\\n\", identity_matrix)\n",
    "\n",
    "# диаг матрица  4x4 с заданными диагональными элементами\n",
    "diagonal_matrix = np.diag([5, 10, 15, 20])\n",
    "\n",
    "print(\"\\nДиагональная матрица:\\n\", diagonal_matrix)\n",
    "\n",
    "# сумма всех элементов единич матрицы\n",
    "identity_sum = np.sum(identity_matrix)\n",
    "\n",
    "#  сумма всех элементов диаг матрицы\n",
    "diagonal_sum = np.sum(diagonal_matrix)\n",
    "\n",
    "print(\"\\nСумма элементов единичной матрицы:\", identity_sum)\n",
    "print(\"Сумма элементов диагональной матрицы:\", diagonal_sum)\n",
    "\n",
    "# Сравнение\n",
    "if identity_sum > diagonal_sum:\n",
    "    print(\"\\nСумма элементов единичной матрицы больше суммы элементов диагональной матрицы.\")\n",
    "elif identity_sum < diagonal_sum:\n",
    "    print(\"\\nСумма элементов единичной матрицы меньше суммы элементов диагональной матрицы.\")\n",
    "else:\n",
    "    print(\"\\nСуммы элементов обеих матриц равны.\")\n",
    "\n"
   ]
  },
  {
   "cell_type": "code",
   "execution_count": null,
   "id": "5fb2da7a-2c22-465b-b6c1-8ef6783ee71a",
   "metadata": {},
   "outputs": [],
   "source": []
  }
 ],
 "metadata": {
  "kernelspec": {
   "display_name": "Python [conda env:base] *",
   "language": "python",
   "name": "conda-base-py"
  },
  "language_info": {
   "codemirror_mode": {
    "name": "ipython",
    "version": 3
   },
   "file_extension": ".py",
   "mimetype": "text/x-python",
   "name": "python",
   "nbconvert_exporter": "python",
   "pygments_lexer": "ipython3",
   "version": "3.12.7"
  }
 },
 "nbformat": 4,
 "nbformat_minor": 5
}
