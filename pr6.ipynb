{
 "cells": [
  {
   "cell_type": "code",
   "execution_count": 1,
   "id": "272ebf21-76a8-4549-81a8-d46d72c8a282",
   "metadata": {},
   "outputs": [
    {
     "name": "stdout",
     "output_type": "stream",
     "text": [
      "Матрица 1:\n",
      " [[19 16 14]\n",
      " [14 16 17]\n",
      " [ 4  8  7]]\n",
      "\n",
      "Матрица 2:\n",
      " [[ 4  8 15]\n",
      " [10 13 16]\n",
      " [18 16  8]]\n",
      "\n",
      "Сумма :\n",
      " [[23 24 29]\n",
      " [24 29 33]\n",
      " [22 24 15]]\n",
      "\n",
      "Разность :\n",
      " [[ 15   8  -1]\n",
      " [  4   3   1]\n",
      " [-14  -8  -1]]\n",
      "\n",
      "Поэлементное произведение :\n",
      " [[ 76 128 210]\n",
      " [140 208 272]\n",
      " [ 72 128  56]]\n"
     ]
    }
   ],
   "source": [
    "import numpy as np\n",
    "\n",
    "matrix1 = np.random.randint(1, 21, (3, 3))  \n",
    "matrix2 = np.random.randint(1, 21, (3, 3))\n",
    "\n",
    "print(\"Матрица 1:\\n\", matrix1)\n",
    "print(\"\\nМатрица 2:\\n\", matrix2)\n",
    "\n",
    "sum_matrix = matrix1 + matrix2\n",
    "\n",
    "#  разность \n",
    "diff_matrix = matrix1 - matrix2\n",
    "\n",
    "#  поэлементное умножение \n",
    "elementwise_product = matrix1 * matrix2\n",
    "\n",
    "print(\"\\nСумма :\\n\", sum_matrix)\n",
    "print(\"\\nРазность :\\n\", diff_matrix)\n",
    "print(\"\\nПоэлементное произведение :\\n\", elementwise_product)\n",
    "\n"
   ]
  },
  {
   "cell_type": "code",
   "execution_count": null,
   "id": "987b9792-ef4c-4189-9a13-59c35ae66d32",
   "metadata": {},
   "outputs": [],
   "source": []
  }
 ],
 "metadata": {
  "kernelspec": {
   "display_name": "Python [conda env:base] *",
   "language": "python",
   "name": "conda-base-py"
  },
  "language_info": {
   "codemirror_mode": {
    "name": "ipython",
    "version": 3
   },
   "file_extension": ".py",
   "mimetype": "text/x-python",
   "name": "python",
   "nbconvert_exporter": "python",
   "pygments_lexer": "ipython3",
   "version": "3.12.7"
  }
 },
 "nbformat": 4,
 "nbformat_minor": 5
}
