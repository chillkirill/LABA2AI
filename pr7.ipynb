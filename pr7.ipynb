{
 "cells": [
  {
   "cell_type": "code",
   "execution_count": 1,
   "id": "55960a30-a989-4cf8-912f-b732575816f9",
   "metadata": {},
   "outputs": [
    {
     "name": "stdout",
     "output_type": "stream",
     "text": [
      "Матрица 1:\n",
      " [[7 6 2]\n",
      " [5 7 2]]\n",
      "\n",
      "Матрица 2:\n",
      " [[ 4  8]\n",
      " [ 1  6]\n",
      " [10  1]]\n",
      "\n",
      "Результат умножения:\n",
      " [[54 94]\n",
      " [47 84]]\n"
     ]
    }
   ],
   "source": [
    "import numpy as np\n",
    "\n",
    "# 2x3, со случайными числами от 1 до 10\n",
    "matrix1 = np.random.randint(1, 11, (2, 3))\n",
    "\n",
    "# 3x2, со случайными числами от 1 до 10\n",
    "matrix2 = np.random.randint(1, 11, (3, 2))\n",
    "\n",
    "print(\"Матрица 1:\\n\", matrix1)\n",
    "print(\"\\nМатрица 2:\\n\", matrix2)\n",
    "\n",
    "# умножение с оператором @\n",
    "product_matrix = matrix1 @ matrix2  \n",
    "\n",
    "print(\"\\nРезультат умножения:\\n\", product_matrix)\n"
   ]
  },
  {
   "cell_type": "code",
   "execution_count": null,
   "id": "e972d02e-340e-40ae-866d-0b8be03a953d",
   "metadata": {},
   "outputs": [],
   "source": []
  }
 ],
 "metadata": {
  "kernelspec": {
   "display_name": "Python [conda env:base] *",
   "language": "python",
   "name": "conda-base-py"
  },
  "language_info": {
   "codemirror_mode": {
    "name": "ipython",
    "version": 3
   },
   "file_extension": ".py",
   "mimetype": "text/x-python",
   "name": "python",
   "nbconvert_exporter": "python",
   "pygments_lexer": "ipython3",
   "version": "3.12.7"
  }
 },
 "nbformat": 4,
 "nbformat_minor": 5
}
