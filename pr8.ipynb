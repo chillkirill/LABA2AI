{
 "cells": [
  {
   "cell_type": "code",
   "execution_count": 1,
   "id": "89aabd4b-4f05-49c0-a44d-f8cb5fd6a208",
   "metadata": {},
   "outputs": [
    {
     "name": "stdout",
     "output_type": "stream",
     "text": [
      "Исходная матрица:\n",
      " [[0.1261026  0.36782876 0.2696788 ]\n",
      " [0.00192422 0.00896292 0.5537988 ]\n",
      " [0.44902583 0.83598093 0.79023471]]\n",
      "\n",
      "Определитель матрицы: 0.03276915463449463\n",
      "\n",
      "Обратная матрица:\n",
      " [[-1.39119372e+01 -1.99043042e+00  6.14254520e+00]\n",
      " [ 7.54213473e+00 -6.54337733e-01 -2.11529857e+00]\n",
      " [-7.37270767e-02  1.82321594e+00  1.28921596e-02]]\n"
     ]
    }
   ],
   "source": [
    "import numpy as np\n",
    "import numpy.linalg as la\n",
    "\n",
    "# 3x3\n",
    "matrix = np.random.rand(3, 3)\n",
    "\n",
    "print(\"Исходная матрица:\\n\", matrix)\n",
    "\n",
    "# определитель\n",
    "determinant = la.det(matrix)\n",
    "\n",
    "print(\"\\nОпределитель матрицы:\", determinant)\n",
    "\n",
    "# Проверка, матрица вырожденная или не (определитель равен 0)если 0 то ничего не будетб\n",
    "if np.isclose(determinant, 0): \n",
    "    print(\"\\nМатрица вырождена, обратной матрицы не существует.\")\n",
    "else:\n",
    "    # обратная матрицу\n",
    "    inverse_matrix = la.inv(matrix)\n",
    "\n",
    "    print(\"\\nОбратная матрица:\\n\", inverse_matrix)\n"
   ]
  },
  {
   "cell_type": "code",
   "execution_count": null,
   "id": "1a27bbb1-d7d2-4ed5-b4f3-9e5a8e56a4ea",
   "metadata": {},
   "outputs": [],
   "source": []
  }
 ],
 "metadata": {
  "kernelspec": {
   "display_name": "Python [conda env:base] *",
   "language": "python",
   "name": "conda-base-py"
  },
  "language_info": {
   "codemirror_mode": {
    "name": "ipython",
    "version": 3
   },
   "file_extension": ".py",
   "mimetype": "text/x-python",
   "name": "python",
   "nbconvert_exporter": "python",
   "pygments_lexer": "ipython3",
   "version": "3.12.7"
  }
 },
 "nbformat": 4,
 "nbformat_minor": 5
}
