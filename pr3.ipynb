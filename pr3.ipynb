{
 "cells": [
  {
   "cell_type": "code",
   "execution_count": 1,
   "id": "acc3529d-62c3-40d8-b4e3-a0f1907b606f",
   "metadata": {},
   "outputs": [
    {
     "name": "stdout",
     "output_type": "stream",
     "text": [
      "Массив 1: [[ 8  9 14 40 21]]\n",
      "Массив 2: [[18 47 18 50 27]]\n",
      "Объединенный массив:\n",
      " [[ 8  9 14 40 21]\n",
      " [18 47 18 50 27]]\n",
      "Первый разделенный массив: [[ 8  9 14 40 21]]\n",
      "Второй разделенный массив: [[18 47 18 50 27]]\n"
     ]
    }
   ],
   "source": [
    "import numpy as np\n",
    "\n",
    "# два массива со случайными числами от 0 до 50\n",
    "arr1 = np.random.randint(0, 51, (1, 5))\n",
    "arr2 = np.random.randint(0, 51, (1, 5))\n",
    "\n",
    "print(\"Массив 1:\", arr1)\n",
    "print(\"Массив 2:\", arr2)\n",
    "\n",
    "# Объединение по строкам\n",
    "combined_arr = np.concatenate((arr1, arr2), axis=0)\n",
    "\n",
    "print(\"Объединенный массив:\\n\", combined_arr)\n",
    "\n",
    "# Разделение  каждый из которых содержит 5 элементов\n",
    "arr1_split, arr2_split = np.split(combined_arr, 2)\n",
    "\n",
    "print(\"Первый разделенный массив:\", arr1_split)\n",
    "print(\"Второй разделенный массив:\", arr2_split)\n"
   ]
  },
  {
   "cell_type": "code",
   "execution_count": null,
   "id": "f5c316ae-b217-42cb-85e4-8ab643fdf211",
   "metadata": {},
   "outputs": [],
   "source": []
  }
 ],
 "metadata": {
  "kernelspec": {
   "display_name": "Python [conda env:base] *",
   "language": "python",
   "name": "conda-base-py"
  },
  "language_info": {
   "codemirror_mode": {
    "name": "ipython",
    "version": 3
   },
   "file_extension": ".py",
   "mimetype": "text/x-python",
   "name": "python",
   "nbconvert_exporter": "python",
   "pygments_lexer": "ipython3",
   "version": "3.12.7"
  }
 },
 "nbformat": 4,
 "nbformat_minor": 5
}
