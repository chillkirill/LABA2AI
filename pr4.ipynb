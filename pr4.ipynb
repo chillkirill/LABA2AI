{
 "cells": [
  {
   "cell_type": "code",
   "execution_count": 1,
   "id": "3e2f5d92-08db-4177-977f-bc141b5b2863",
   "metadata": {},
   "outputs": [
    {
     "name": "stdout",
     "output_type": "stream",
     "text": [
      "Массив: [-10.          -9.59183673  -9.18367347  -8.7755102   -8.36734694\n",
      "  -7.95918367  -7.55102041  -7.14285714  -6.73469388  -6.32653061\n",
      "  -5.91836735  -5.51020408  -5.10204082  -4.69387755  -4.28571429\n",
      "  -3.87755102  -3.46938776  -3.06122449  -2.65306122  -2.24489796\n",
      "  -1.83673469  -1.42857143  -1.02040816  -0.6122449   -0.20408163\n",
      "   0.20408163   0.6122449    1.02040816   1.42857143   1.83673469\n",
      "   2.24489796   2.65306122   3.06122449   3.46938776   3.87755102\n",
      "   4.28571429   4.69387755   5.10204082   5.51020408   5.91836735\n",
      "   6.32653061   6.73469388   7.14285714   7.55102041   7.95918367\n",
      "   8.36734694   8.7755102    9.18367347   9.59183673  10.        ]\n",
      "Сумма всех элементов: 7.105427357601002e-15\n",
      "Сумма положительных элементов: 127.55102040816328\n",
      "Сумма отрицательных элементов: -127.55102040816327\n"
     ]
    }
   ],
   "source": [
    "import numpy as np\n",
    "\n",
    "# массив из 50 чисел, равномерно распределенных от -10 до 10\n",
    "arr = np.linspace(-10, 10, 50)\n",
    "\n",
    "print(\"Массив:\", arr)\n",
    "\n",
    "# Сумму всех элементов\n",
    "total_sum = np.sum(arr)\n",
    "\n",
    "# Сумму полож элементов\n",
    "positive_elements = arr[arr > 0]  # Выбираем только положительные элементы\n",
    "positive_sum = np.sum(positive_elements)\n",
    "\n",
    "# Сумма отриц элементов\n",
    "negative_elements = arr[arr < 0]  # здесь только отриц\n",
    "negative_sum = np.sum(negative_elements)\n",
    "\n",
    "print(\"Сумма всех элементов:\", total_sum)\n",
    "print(\"Сумма положительных элементов:\", positive_sum)\n",
    "print(\"Сумма отрицательных элементов:\", negative_sum)\n",
    "\n"
   ]
  },
  {
   "cell_type": "code",
   "execution_count": null,
   "id": "1dfae3af-4d38-4647-b1ad-3220c29f6c2e",
   "metadata": {},
   "outputs": [],
   "source": []
  }
 ],
 "metadata": {
  "kernelspec": {
   "display_name": "Python [conda env:base] *",
   "language": "python",
   "name": "conda-base-py"
  },
  "language_info": {
   "codemirror_mode": {
    "name": "ipython",
    "version": 3
   },
   "file_extension": ".py",
   "mimetype": "text/x-python",
   "name": "python",
   "nbconvert_exporter": "python",
   "pygments_lexer": "ipython3",
   "version": "3.12.7"
  }
 },
 "nbformat": 4,
 "nbformat_minor": 5
}
