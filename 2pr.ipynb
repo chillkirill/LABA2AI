{
 "cells": [
  {
   "cell_type": "code",
   "execution_count": 1,
   "id": "50052c3b-b707-40d7-a7c5-4fff56912e19",
   "metadata": {},
   "outputs": [
    {
     "name": "stdout",
     "output_type": "stream",
     "text": [
      "Исходный массив: [13 45  4 11 35 67  4 35 72  3 50 18  6 89 97 36 10 98 72 84]\n",
      "Элементы, делящиеся на 5: [45 35 35 50 10]\n",
      "Обновленный массив: [13 -1  4 11 -1 67  4 -1 72  3 -1 18  6 89 97 36 -1 98 72 84]\n"
     ]
    }
   ],
   "source": [
    "import numpy as np\n",
    "\n",
    "# Создание массива NumPy из 20 случайных целых чисел от 1 до 100\n",
    "arr = np.random.randint(1, 101, 20)\n",
    "\n",
    "print(\"Исходный массив:\", arr)\n",
    "\n",
    "# делятся на 5 без остатка\n",
    "divisible_by_5 = arr[arr % 5 == 0]\n",
    "\n",
    "#  элементы делящиеся на 5\n",
    "print(\"Элементы, делящиеся на 5:\", divisible_by_5)\n",
    "\n",
    "# Заменяем элементы делящиеся на 5 и на -1\n",
    "arr[arr % 5 == 0] = -1\n",
    "\n",
    "print(\"Обновленный массив:\", arr)\n"
   ]
  },
  {
   "cell_type": "code",
   "execution_count": null,
   "id": "f45f1056-913c-42de-afc6-eacaf931f530",
   "metadata": {},
   "outputs": [],
   "source": []
  }
 ],
 "metadata": {
  "kernelspec": {
   "display_name": "Python [conda env:base] *",
   "language": "python",
   "name": "conda-base-py"
  },
  "language_info": {
   "codemirror_mode": {
    "name": "ipython",
    "version": 3
   },
   "file_extension": ".py",
   "mimetype": "text/x-python",
   "name": "python",
   "nbconvert_exporter": "python",
   "pygments_lexer": "ipython3",
   "version": "3.12.7"
  }
 },
 "nbformat": 4,
 "nbformat_minor": 5
}
