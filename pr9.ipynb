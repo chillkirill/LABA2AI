{
 "cells": [
  {
   "cell_type": "code",
   "execution_count": 1,
   "id": "425b187e-c57c-4c8e-8faa-9ac773cfe133",
   "metadata": {},
   "outputs": [
    {
     "name": "stdout",
     "output_type": "stream",
     "text": [
      "Исходная матрица:\n",
      " [[45  9 46 15]\n",
      " [48  8 20 47]\n",
      " [30 21 16 42]\n",
      " [35 34 24  3]]\n",
      "\n",
      "Транспонированная матрица:\n",
      " [[45 48 30 35]\n",
      " [ 9  8 21 34]\n",
      " [46 20 16 24]\n",
      " [15 47 42  3]]\n",
      "\n",
      "След матрицы: 72\n"
     ]
    }
   ],
   "source": [
    "import numpy as np\n",
    "\n",
    "#  4x4, со случайными целыми числами от 1 до 50\n",
    "matrix = np.random.randint(1, 51, (4, 4))\n",
    "\n",
    "print(\"Исходная матрица:\\n\", matrix)\n",
    "\n",
    "# транспонированная (вычисление)\n",
    "transposed_matrix = matrix.T  \n",
    "\n",
    "print(\"\\nТранспонированная матрица:\\n\", transposed_matrix)\n",
    "\n",
    "# след матрицы\n",
    "trace = np.trace(matrix)\n",
    "\n",
    "print(\"\\nСлед матрицы:\", trace)\n"
   ]
  },
  {
   "cell_type": "code",
   "execution_count": null,
   "id": "dc603709-c850-424c-a765-8302cdc7cf1f",
   "metadata": {},
   "outputs": [],
   "source": []
  }
 ],
 "metadata": {
  "kernelspec": {
   "display_name": "Python [conda env:base] *",
   "language": "python",
   "name": "conda-base-py"
  },
  "language_info": {
   "codemirror_mode": {
    "name": "ipython",
    "version": 3
   },
   "file_extension": ".py",
   "mimetype": "text/x-python",
   "name": "python",
   "nbconvert_exporter": "python",
   "pygments_lexer": "ipython3",
   "version": "3.12.7"
  }
 },
 "nbformat": 4,
 "nbformat_minor": 5
}
