{
 "cells": [
  {
   "cell_type": "code",
   "execution_count": 1,
   "id": "971740f0-3f77-43da-a7a2-0e4c9aec47c5",
   "metadata": {},
   "outputs": [
    {
     "name": "stdout",
     "output_type": "stream",
     "text": [
      "Решение системы уравнений:\n",
      "x = 1.6396396396396398\n",
      "y = 0.5765765765765767\n",
      "z = 0.009009009009008993\n"
     ]
    }
   ],
   "source": [
    "import numpy as np\n",
    "import numpy.linalg as la\n",
    "\n",
    "# создал матрицу из коэф\n",
    "A = np.array([[2, 3, -1],\n",
    "              [4, -1, 2],\n",
    "              [-3, 5, 4]])\n",
    "\n",
    "# вектор правой части B\n",
    "B = np.array([5, 6, -2])\n",
    "\n",
    "# решение системы линейных уравнений Ax = B\n",
    "try:\n",
    "  x = la.solve(A, B)\n",
    "\n",
    "  print(\"Решение системы уравнений:\")\n",
    "  print(\"x =\", x[0])\n",
    "  print(\"y =\", x[1])\n",
    "  print(\"z =\", x[2])\n",
    "\n",
    "except la.LinAlgError:\n",
    "    print(\"Система не имеет решений.\")\n"
   ]
  },
  {
   "cell_type": "code",
   "execution_count": null,
   "id": "7ca940fe-f04d-4dde-aca3-eb11285281b4",
   "metadata": {},
   "outputs": [],
   "source": []
  }
 ],
 "metadata": {
  "kernelspec": {
   "display_name": "Python [conda env:base] *",
   "language": "python",
   "name": "conda-base-py"
  },
  "language_info": {
   "codemirror_mode": {
    "name": "ipython",
    "version": 3
   },
   "file_extension": ".py",
   "mimetype": "text/x-python",
   "name": "python",
   "nbconvert_exporter": "python",
   "pygments_lexer": "ipython3",
   "version": "3.12.7"
  }
 },
 "nbformat": 4,
 "nbformat_minor": 5
}
